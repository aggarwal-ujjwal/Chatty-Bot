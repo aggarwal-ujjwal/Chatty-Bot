{
  "nbformat": 4,
  "nbformat_minor": 0,
  "metadata": {
    "colab": {
      "provenance": [],
      "authorship_tag": "ABX9TyNyfMQNz733qZbHOD8tgUN5",
      "include_colab_link": true
    },
    "kernelspec": {
      "name": "python3",
      "display_name": "Python 3"
    },
    "language_info": {
      "name": "python"
    }
  },
  "cells": [
    {
      "cell_type": "markdown",
      "metadata": {
        "id": "view-in-github",
        "colab_type": "text"
      },
      "source": [
        "<a href=\"https://colab.research.google.com/github/aggarwal-ujjwal/Chatty-Bot/blob/master/Udemy_Python_Course.ipynb\" target=\"_parent\"><img src=\"https://colab.research.google.com/assets/colab-badge.svg\" alt=\"Open In Colab\"/></a>"
      ]
    },
    {
      "cell_type": "code",
      "execution_count": 2,
      "metadata": {
        "colab": {
          "base_uri": "https://localhost:8080/"
        },
        "id": "WW-5vhkwnnZ8",
        "outputId": "c4010001-c93c-4105-c4d1-8cb47bf134d5"
      },
      "outputs": [
        {
          "output_type": "stream",
          "name": "stdout",
          "text": [
            "Hello World!\n"
          ]
        }
      ],
      "source": [
        "print(\"Hello World!\")\n",
        "#Make Comments using Hashtag"
      ]
    },
    {
      "cell_type": "code",
      "source": [
        "#Variables and multiple assigment\n",
        "age = 20\n",
        "sentence = \"Python basics\"\n",
        "\n",
        "sarah, bob, mike = 16, 21, 17\n",
        "print(sarah, bob, mike)\n",
        "\n",
        "sarah = bob = mike = 17\n",
        "print(sarah, bob, mike)"
      ],
      "metadata": {
        "colab": {
          "base_uri": "https://localhost:8080/"
        },
        "id": "usqhuCHfoVBJ",
        "outputId": "a83d0ee9-cf8c-4c17-f2e3-fe8858c80418"
      },
      "execution_count": 6,
      "outputs": [
        {
          "output_type": "stream",
          "name": "stdout",
          "text": [
            "16 21 17\n",
            "17 17 17\n"
          ]
        }
      ]
    },
    {
      "cell_type": "code",
      "source": [
        "#Arithmetic operators\n",
        "age1 = 12\n",
        "age2 = 10\n",
        "print(age1 + age2)\n",
        "print(age1 - age2)\n",
        "print(age1 * age2)\n",
        "print(age1 / age2)\n",
        "print(age1 % age2)\n",
        "print(age1 ** age2)"
      ],
      "metadata": {
        "colab": {
          "base_uri": "https://localhost:8080/"
        },
        "id": "I6vZjDYoo_6x",
        "outputId": "3f0a9109-1215-43d8-86c8-e4910abf1ccb"
      },
      "execution_count": 7,
      "outputs": [
        {
          "output_type": "stream",
          "name": "stdout",
          "text": [
            "22\n",
            "2\n",
            "120\n",
            "1.2\n",
            "2\n",
            "61917364224\n"
          ]
        }
      ]
    },
    {
      "cell_type": "code",
      "source": [
        "print(\"A\"+ \" \" + \"B\") # sum of strings\n",
        "#print(\"A\"-\"B\") # ERROR - sub has no meaning in strings\n",
        "print(\"A\"*3) # repeat string"
      ],
      "metadata": {
        "colab": {
          "base_uri": "https://localhost:8080/"
        },
        "id": "2MlxLeZEsPw_",
        "outputId": "8d0fe4e9-d716-4032-d814-3b3baacc1a8f"
      },
      "execution_count": 10,
      "outputs": [
        {
          "output_type": "stream",
          "name": "stdout",
          "text": [
            "A B\n",
            "AAA\n"
          ]
        }
      ]
    },
    {
      "cell_type": "code",
      "source": [
        "sent = \"This is Python basics\"\n",
        "print(sent[0]) #first letter\n",
        "#Slicing - last insex is not included\n",
        "print(sent[0:5])\n"
      ],
      "metadata": {
        "colab": {
          "base_uri": "https://localhost:8080/"
        },
        "id": "TJyoY49QqXz8",
        "outputId": "93756408-fd70-477d-c74a-5d086551daa7"
      },
      "execution_count": 13,
      "outputs": [
        {
          "output_type": "stream",
          "name": "stdout",
          "text": [
            "T\n",
            "This \n"
          ]
        }
      ]
    },
    {
      "cell_type": "code",
      "source": [
        "#Placeholders in Strings\n",
        "name = \"Bob\"\n",
        "print(name + \" is \" + str(age) + \" years old\") #String concatenation:\n",
        "print(\"{} is {} years old\".format(name, age)) #str.format method\n",
        "print(f\"{name} is {age} years old\")#f-string (formatted string literal) - introduced in Python 3.6\n",
        "#f-strings are generally the most readable and concise for formatting strings, and they are also the fastest in terms of performance. They are recommended if you're using Python 3.6 or later."
      ],
      "metadata": {
        "colab": {
          "base_uri": "https://localhost:8080/"
        },
        "id": "TWYM1yZtujd-",
        "outputId": "e16c8ed9-254e-4065-debb-7716b514e385"
      },
      "execution_count": 18,
      "outputs": [
        {
          "output_type": "stream",
          "name": "stdout",
          "text": [
            "Bob is 20 years old\n",
            "Bob is 20 years old\n",
            "Bob is 20 years old\n"
          ]
        }
      ]
    },
    {
      "cell_type": "code",
      "source": [],
      "metadata": {
        "id": "S4SWIpHnwF-L"
      },
      "execution_count": null,
      "outputs": []
    }
  ]
}